{
 "cells": [
  {
   "cell_type": "code",
   "execution_count": 1,
   "metadata": {},
   "outputs": [
    {
     "name": "stdout",
     "output_type": "stream",
     "text": [
      "[1.00000497 1.99999862 3.00000648 4.00001523]\n",
      "[0.99766443 1.99765925 3.01580162 4.00769359]\n"
     ]
    }
   ],
   "source": [
    "import numpy as np\n",
    "import matplotlib.pyplot as plt\n",
    "from numpy.random import normal, seed\n",
    "from scipy.odr import *\n",
    "\n",
    "seed(42)\n",
    "\n",
    "sx = 1e-5\n",
    "yslope = 1e-6 + 1\n",
    "sy = sx*1e3*yslope\n",
    "x = np.arange(1, 5, 1) + normal(0, sx, 4)\n",
    "print(x)\n",
    "y = x*yslope + normal(0, sy, 4)\n",
    "print(y)"
   ]
  },
  {
   "cell_type": "code",
   "execution_count": 12,
   "metadata": {},
   "outputs": [
    {
     "name": "stdout",
     "output_type": "stream",
     "text": [
      "1.0048190998914046 -0.007349381955367829 0.00011497518820976799\n"
     ]
    }
   ],
   "source": [
    "def odrfit(x, y, sx, sy):\n",
    "\n",
    "    def linfun(B, x):\n",
    "        '''Linear function y = m*x + b'''\n",
    "        return B[0]*x + B[1]\n",
    "\n",
    "    linear = Model(linfun)\n",
    "\n",
    "    mydata = Data(x, y, wd=1./sx**2, we=1./sy**2)\n",
    "\n",
    "    myodr = ODR(mydata, linear, beta0=[1., 2.])\n",
    "\n",
    "    myoutput = myodr.run()\n",
    "\n",
    "    #myoutput.pprint()\n",
    "    slope=myoutput.beta[0]\n",
    "    offset=myoutput.beta[1]\n",
    "    ressquared = np.sum((y - linfun(myoutput.beta, x))**2)\n",
    "    #ressquared = myoutput.sum_square\n",
    "    return slope, offset, ressquared\n",
    "    \n",
    "def linearregression(x, y, sx, sy):\n",
    "    \n",
    "    sy = np.asarray([sy]*len(x))\n",
    "\n",
    "    def linfun(B, x):\n",
    "        '''Linear function y = m*x + b'''\n",
    "        return B[0]*x + B[1]\n",
    "\n",
    "    popt = np.polyfit(x, y, 1, w=1/sy)\n",
    "\n",
    "    #myoutput.pprint()\n",
    "    slope=popt[0]\n",
    "    offset=popt[1]\n",
    "    ressquared = np.sum((y - np.poly1d(popt)(x))**2)\n",
    "    return slope, offset, ressquared\n",
    "\n",
    "fitmethod = odrfit\n",
    "#fitmethod = linearregression\n",
    "    \n",
    "slope, offset, res = fitmethod(x, y, sx, sy)\n",
    "print(slope, offset, res)"
   ]
  },
  {
   "cell_type": "code",
   "execution_count": 13,
   "metadata": {},
   "outputs": [
    {
     "name": "stdout",
     "output_type": "stream",
     "text": [
      "1.0048191039983805 -0.00734939488099539\n",
      "4.087278959730156e-09 1.7587366720750452e-06 9.15489906105904e-13\n"
     ]
    }
   ],
   "source": [
    "scale = 1e-4\n",
    "slope2, offset2, res2 = fitmethod(x*scale, y, sx*scale, sy)\n",
    "print(slope2*scale, offset2)\n",
    "print(slope2*scale/slope-1, offset2/offset-1, res2/res-1)"
   ]
  },
  {
   "cell_type": "code",
   "execution_count": 14,
   "metadata": {},
   "outputs": [
    {
     "name": "stdout",
     "output_type": "stream",
     "text": [
      "1.0048190996943542 -0.007449865662625843\n",
      "-1.9610535417768915e-10 -75.49865662625842 8.548717289613705e-14\n"
     ]
    }
   ],
   "source": [
    "offset = 1e-4\n",
    "slope3, offset3, res3 = fitmethod(x+offset, y, sx, sy)\n",
    "print(slope3, offset3)\n",
    "print(slope3/slope-1, offset3/offset-1, res3/res-1)"
   ]
  },
  {
   "cell_type": "code",
   "execution_count": 15,
   "metadata": {},
   "outputs": [
    {
     "name": "stdout",
     "output_type": "stream",
     "text": [
      "1004819.1002811944 -100.48925941155878\n",
      "3.8792036249901685e-10 -1004893.5941155878 -2.7755575615628914e-15\n"
     ]
    }
   ],
   "source": [
    "offset = 1e-4\n",
    "scale = 1e-6\n",
    "slope4, offset4, res4 = fitmethod(x*scale+offset, y, sx*scale, sy)\n",
    "print(slope4, offset4)\n",
    "print(slope4*scale/slope-1, offset4/offset-1, res4/res-1)"
   ]
  },
  {
   "cell_type": "code",
   "execution_count": 16,
   "metadata": {},
   "outputs": [
    {
     "name": "stdout",
     "output_type": "stream",
     "text": [
      "[0.99987502 0.99987649 0.99987792 0.99987932]\n",
      "[0.00000000e+00 1.47040660e-06 2.90662187e-06 4.30982468e-06]\n",
      "1.0049389198317185 -0.007342187022354896\n",
      "0.00011924528537199386 -74.42187022354895 0.0001941662938718114\n"
     ]
    }
   ],
   "source": [
    "thescale = np.asarray([1/(1+42/2000/A) for A in [168, 170, 172, 174]])\n",
    "print(thescale)\n",
    "print(thescale/thescale[0]-1)\n",
    "slope5, offset5, res5 = fitmethod(x*thescale, y, sx, sy)\n",
    "print(slope5, offset5)\n",
    "print(slope5/slope-1, offset5/offset-1, res5/res-1)"
   ]
  },
  {
   "cell_type": "code",
   "execution_count": 17,
   "metadata": {},
   "outputs": [
    {
     "name": "stdout",
     "output_type": "stream",
     "text": [
      "1.0048190827070382 -0.007348436011819448\n",
      "-1.7101950411380074e-08 -74.48436011819447 -0.0002442547470367096\n"
     ]
    }
   ],
   "source": [
    "\n",
    "slope6, offset6, res6 = fitmethod(x*thescale, y*thescale, sx, sy)\n",
    "print(slope6, offset6)\n",
    "print(slope6/slope-1, offset6/offset-1, res6/res-1)"
   ]
  },
  {
   "cell_type": "code",
   "execution_count": null,
   "metadata": {},
   "outputs": [],
   "source": []
  },
  {
   "cell_type": "code",
   "execution_count": null,
   "metadata": {},
   "outputs": [],
   "source": []
  }
 ],
 "metadata": {
  "kernelspec": {
   "display_name": "Python 3",
   "language": "python",
   "name": "python3"
  },
  "language_info": {
   "codemirror_mode": {
    "name": "ipython",
    "version": 3
   },
   "file_extension": ".py",
   "mimetype": "text/x-python",
   "name": "python",
   "nbconvert_exporter": "python",
   "pygments_lexer": "ipython3",
   "version": "3.7.7"
  }
 },
 "nbformat": 4,
 "nbformat_minor": 4
}
