{
 "cells": [
  {
   "cell_type": "markdown",
   "metadata": {},
   "source": [
    "# Calculate systematics\n",
    "\n",
    "This is for calculating systematics and the resulting Q value and/or absolute mass."
   ]
  },
  {
   "cell_type": "code",
   "execution_count": null,
   "metadata": {},
   "outputs": [],
   "source": [
    "import scipy.constants as cont\n",
    "ukg = cont.physical_constants[\"atomic mass unit-kilogram relationship\"][0]\n",
    "ueV = cont.physical_constants[\"atomic mass unit-electron volt relationship\"][0]\n",
    "elq = cont.physical_constants[\"elementary charge\"][0]\n",
    "eVkg = cont.physical_constants[\"electron volt-kilogram relationship\"][0]\n",
    "\n",
    "import numpy as np\n",
    "\n",
    "from uncertainties import ufloat\n",
    "from uncertainties.umath import *\n",
    "import yaml\n",
    "from pprint import pprint\n",
    "\n",
    "import matplotlib.pyplot as plt\n",
    "%matplotlib inline\n",
    "\n",
    "%load_ext autoreload\n",
    "%autoreload 2\n",
    "\n",
    "from fticr_toolkit import ame\n",
    "from fticr_toolkit import ideal_trap_physics as ideal\n",
    "from fticr_toolkit import systematics\n",
    "\n",
    "\n",
    "# load trap parameters from yaml files\n",
    "traps = {}\n",
    "for i in range(1,6):\n",
    "    try:\n",
    "        with open(\"trap\"+str(i)+\".yaml\", 'r') as stream:\n",
    "            try:\n",
    "                data = yaml.safe_load(stream)\n",
    "                # make them ufloats if possible\n",
    "                for key, value in data.items():\n",
    "                    if len(value)==2:\n",
    "                        try:\n",
    "                            data[key] = ufloat(float(value[0]), float(value[1]))\n",
    "                        except (TypeError, AttributeError):\n",
    "                            pass\n",
    "\n",
    "                traps[i] = data\n",
    "                print(\"trap\", i)\n",
    "                pprint(data)\n",
    "            except yaml.YAMLError as exc:\n",
    "                print(exc)\n",
    "            except AttributeError as exc:\n",
    "                print('probably empty file? trap', i)\n",
    "                print('- error', exc)\n",
    "    except FileNotFoundError:\n",
    "        print(\"no file for trap\", i)\n",
    "        \n",
    "trap2 = traps[2]\n",
    "trap3 = traps[3]"
   ]
  },
  {
   "cell_type": "code",
   "execution_count": null,
   "metadata": {},
   "outputs": [],
   "source": [
    "# other setup parameters:\n",
    "common = {\n",
    "    \"T_max_evol\" : 39.95,\n",
    "    \"trap_radius\" : 5e-3, # mm\n",
    "    \"B_drift_per_h\": 1e-10, # Tesla per hour\n",
    "}"
   ]
  },
  {
   "cell_type": "code",
   "execution_count": null,
   "metadata": {},
   "outputs": [],
   "source": [
    "ionA = {\n",
    "    \"ion\" : '187Re29+', # definitly needed \n",
    "    \"exc_roh_+\": ufloat(21e-3, 3e-3), # mm, has to be measured before hand\n",
    "    \"SNR_phase\" : ufloat(12, 1), # dB, has to be measured before hand\n",
    "    \"nu_m\" : 7631.74, # Hz, can be also calculated if on resonance\n",
    "    \"nu_z\" : 29467.7 + 475000, # Hz, can be also calculated if on resonance\n",
    "    \"nu_p\" : 16672936.91, # Hz, can be also calculated if on resonance\n",
    "    \"U_ring\" : -22.511, # V, can be also calculated if on resonance\n",
    "}\n",
    "ionB = {\n",
    "    \"ion\" : '187Os29+',\n",
    "    \"exc_roh_+\": ufloat(21e-3, 3e-3), # mm \n",
    "    \"SNR_phase\": ufloat(12, 1), # dB\n",
    "    \"nu_m\" : 7631.74,\n",
    "    \"nu_z\" : 29467.7 + 475000, # same as nu_res\n",
    "    \"nu_p\" : 16672937.14,\n",
    "    \"U_ring\" : -22.511,\n",
    "}"
   ]
  },
  {
   "cell_type": "code",
   "execution_count": null,
   "metadata": {},
   "outputs": [],
   "source": [
    "ion_num = systematics.ion(ionA)\n",
    "ion_den = systematics.ion(ionB)\n",
    "print('neutral mass ratio - 1', ion_num.mass_ev/ion_den.mass_ev - 1)"
   ]
  },
  {
   "cell_type": "markdown",
   "metadata": {},
   "source": [
    "### relativistic shift"
   ]
  },
  {
   "cell_type": "code",
   "execution_count": null,
   "metadata": {},
   "outputs": [],
   "source": [
    "# trap2\n",
    "mass = float(ame.get_isotope(trap2[\"ion_num\"][\"ion\"])[\"A\"])\n",
    "Ep = ideal.Ep(mass, \n",
    "              trap2[\"ion_num\"][\"exc_roh_+\"].n*1e-3, \n",
    "              trap2[\"ion_num\"][\"nu_p\"]*2*np.pi, \n",
    "              trap2[\"ion_num\"][\"nu_m\"]*2*np.pi)\n",
    "\n",
    "restmass = mass*ueV + float(ame.get_isotope(trap2[\"ion_num\"][\"ion\"])[\"mass\"])*1000\n",
    "nu_m = trap2[\"ion_num\"][\"nu_m\"] \n",
    "nu_p = trap2[\"ion_num\"][\"nu_p\"]\n",
    "nu_c = trap2[\"ion_num\"][\"nu_m\"] + trap2[\"ion_num\"][\"nu_p\"]\n",
    "\n",
    "print(mass*ueV, Ep, restmass, trap2[\"ion_num\"][\"exc_roh_+\"].n*1e-3, nu_c)\n",
    "\n",
    "domegac_RS = sys_fun.domegac_RS(Ep, nu_c*2*np.pi, restmass)\n",
    "domegac_RS3 = sys_fun.domegac_RS2(trap2[\"ion_num\"][\"exc_roh_+\"].n*1e-3, nu_c, nu_m, nu_p)\n",
    "print(domegac_RS3)\n",
    "print(\"dnu_c ion_num\", domegac_RS/2/np.pi)\n",
    "\n",
    "mass = float(ame.get_isotope(trap2[\"ion_denom\"][\"ion\"])[\"A\"])\n",
    "Ep = ideal.Ep(mass, \n",
    "              trap2[\"ion_denom\"][\"exc_roh_+\"].n*1e-3, \n",
    "              trap2[\"ion_denom\"][\"nu_p\"]*2*np.pi, \n",
    "              trap2[\"ion_denom\"][\"nu_m\"]*2*np.pi)\n",
    "\n",
    "restmass = mass*ueV + float(ame.get_isotope(trap2[\"ion_denom\"][\"ion\"])[\"mass\"])*1000\n",
    "nu_m = trap2[\"ion_denom\"][\"nu_m\"] \n",
    "nu_p = trap2[\"ion_denom\"][\"nu_p\"]\n",
    "nu_c = trap2[\"ion_denom\"][\"nu_m\"] + trap2[\"ion_denom\"][\"nu_p\"]\n",
    "\n",
    "print(mass*ueV, Ep, restmass, trap2[\"ion_denom\"][\"exc_roh_+\"].n*1e-3, nu_c)\n",
    "\n",
    "domegac_RS2 = sys_fun.domegac_RS(Ep, nu_c*2*np.pi, restmass)\n",
    "\n",
    "print(\"dnu_c difference\", (domegac_RS - domegac_RS2)/2/np.pi)\n",
    "print(\"dR\", -(domegac_RS - domegac_RS2)/2/np.pi/trap2[\"ion_denom\"][\"nu_p\"])\n",
    "\n",
    "domegac_RS4 = sys_fun.domegac_RS2(trap2[\"ion_denom\"][\"exc_roh_+\"].n*1e-3, nu_c, nu_m, nu_p)\n",
    "print(domegac_RS4)\n",
    "print(\"dnu_c difference\", (domegac_RS3 - domegac_RS4))\n",
    "print(\"dR\", (domegac_RS3 - domegac_RS4)/nu_c)\n"
   ]
  },
  {
   "cell_type": "markdown",
   "metadata": {},
   "source": [
    "### image charge shift"
   ]
  },
  {
   "cell_type": "code",
   "execution_count": null,
   "metadata": {},
   "outputs": [],
   "source": [
    "mass = float(ame.get_isotope(trap2[\"ion_num\"][\"ion\"])[\"A\"])\n",
    "excess = float(ame.get_isotope(trap2[\"ion_num\"][\"ion\"])[\"mass\"])*1000*1.073544664258e-9\n",
    "excessa = excess\n",
    "dnu_c_ICS = 2*np.pi*sys_fun.domegac_ICS(29, \n",
    "                                mass+excess, \n",
    "                                common[\"trap_radius\"], \n",
    "                                nu_c*2*np.pi, \n",
    "                                trap2[\"ion_denom\"][\"nu_p\"], \n",
    "                                trap2[\"ion_denom\"][\"nu_m\"])\n",
    "\n",
    "mass = float(ame.get_isotope(trap2[\"ion_denom\"][\"ion\"])[\"A\"])\n",
    "excess = float(ame.get_isotope(trap2[\"ion_denom\"][\"ion\"])[\"mass\"])*1000*1.073544664258e-9\n",
    "dnu_c_ICS2 = 2*np.pi*sys_fun.domegac_ICS(29, \n",
    "                                mass+excess, \n",
    "                                common[\"trap_radius\"], \n",
    "                                nu_c*2*np.pi, \n",
    "                                trap2[\"ion_denom\"][\"nu_p\"], \n",
    "                                trap2[\"ion_denom\"][\"nu_m\"])\n",
    "\n",
    "print(\"dnu_c ion_num\", dnu_c_ICS)\n",
    "print(\"dnu_c difference\", dnu_c_ICS - dnu_c_ICS2)\n",
    "print(\"dR\", -(dnu_c_ICS - dnu_c_ICS2)/trap2[\"ion_denom\"][\"nu_p\"])\n",
    "\n",
    "dmass = (excessa - excess)\n",
    "dmasskg = dmass*1.66054e-27\n",
    "print(dmass, dmasskg)\n",
    "dR = sys_fun.dR_ICS(trap2[\"B0\"].n, common[\"trap_radius\"], dmasskg)\n",
    "print(\"dR\", dR)\n"
   ]
  },
  {
   "cell_type": "markdown",
   "metadata": {},
   "source": [
    "### C4/C6"
   ]
  },
  {
   "cell_type": "markdown",
   "metadata": {},
   "source": [
    "### B2"
   ]
  },
  {
   "cell_type": "markdown",
   "metadata": {},
   "source": [
    "### B1C1 (B1 & different axial position due to C1 and different trap depth)"
   ]
  },
  {
   "cell_type": "code",
   "execution_count": null,
   "metadata": {},
   "outputs": [],
   "source": [
    "None"
   ]
  }
 ],
 "metadata": {
  "kernelspec": {
   "display_name": "Python 3.7.7 64-bit",
   "language": "python",
   "name": "python37764bit884776315d0244918fca0969b6083774"
  },
  "language_info": {
   "codemirror_mode": {
    "name": "ipython",
    "version": 3
   },
   "file_extension": ".py",
   "mimetype": "text/x-python",
   "name": "python",
   "nbconvert_exporter": "python",
   "pygments_lexer": "ipython3",
   "version": "3.7.7"
  }
 },
 "nbformat": 4,
 "nbformat_minor": 4
}
