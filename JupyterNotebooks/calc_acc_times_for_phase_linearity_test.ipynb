{
 "cells": [
  {
   "cell_type": "code",
   "execution_count": 16,
   "metadata": {},
   "outputs": [],
   "source": [
    "import numpy as np\n",
    "import matplotlib.pyplot as plt\n",
    "\n"
   ]
  },
  {
   "cell_type": "code",
   "execution_count": 34,
   "metadata": {},
   "outputs": [
    {
     "name": "stdout",
     "output_type": "stream",
     "text": [
      "N = 11 [0.1 0.2 0.3 0.4 0.5 0.6 0.7 0.8 0.9 1.  1.1]\n",
      "phase = [ 55.8 111.6 167.4 223.2 279.  334.8  30.6  86.4 142.2 198.  253.8]\n"
     ]
    },
    {
     "data": {
      "text/plain": [
       "[<matplotlib.lines.Line2D at 0x1ae12713488>]"
      ]
     },
     "execution_count": 34,
     "metadata": {},
     "output_type": "execute_result"
    },
    {
     "data": {
      "image/png": "[encoded data removed]",
      "text/plain": [
       "<Figure size 432x288 with 1 Axes>"
      ]
     },
     "metadata": {
      "needs_background": "light"
     },
     "output_type": "display_data"
    }
   ],
   "source": [
    "#nu = 25070659.24 *2*np.pi\n",
    "nu = 10381.55 * 2*np.pi\n",
    "#nu = 4943.1 *2*np.pi\n",
    "#nu = 25076545.58 *2*np.pi\n",
    "\n",
    "t = np.arange(0.1, 1.12, 0.1)\n",
    "print(\"N =\", len(t), t)\n",
    "\n",
    "N = nu * t \n",
    "phi = N % (2*np.pi)\n",
    "phi *= 180/np.pi\n",
    "print(\"phase =\", phi)\n",
    "plt.plot(t, phi)"
   ]
  },
  {
   "cell_type": "code",
   "execution_count": 35,
   "metadata": {
    "scrolled": false
   },
   "outputs": [
    {
     "data": {
      "text/plain": [
       "(array([1., 0., 0., 0., 0., 0., 0., 0., 1., 0., 0., 0., 0., 0., 0., 0., 0.,\n",
       "        0., 1., 0., 0., 0., 0., 0., 0., 0., 1., 0., 0., 0., 0., 0., 0., 0.,\n",
       "        0., 0., 1., 0., 0., 0., 0., 0., 0., 0., 1., 0., 0., 0., 0., 0., 0.,\n",
       "        0., 0., 0., 0., 1., 0., 0., 0., 0., 0., 0., 0., 1., 0., 0., 0., 0.,\n",
       "        0., 0., 0., 0., 0., 1., 0., 0., 0., 0., 0., 0., 0., 1., 0., 0., 0.,\n",
       "        0., 0., 0., 0., 0., 0., 0., 0., 0., 0., 0., 0., 0., 0., 1.]),\n",
       " array([ 30.6  ,  33.642,  36.684,  39.726,  42.768,  45.81 ,  48.852,\n",
       "         51.894,  54.936,  57.978,  61.02 ,  64.062,  67.104,  70.146,\n",
       "         73.188,  76.23 ,  79.272,  82.314,  85.356,  88.398,  91.44 ,\n",
       "         94.482,  97.524, 100.566, 103.608, 106.65 , 109.692, 112.734,\n",
       "        115.776, 118.818, 121.86 , 124.902, 127.944, 130.986, 134.028,\n",
       "        137.07 , 140.112, 143.154, 146.196, 149.238, 152.28 , 155.322,\n",
       "        158.364, 161.406, 164.448, 167.49 , 170.532, 173.574, 176.616,\n",
       "        179.658, 182.7  , 185.742, 188.784, 191.826, 194.868, 197.91 ,\n",
       "        200.952, 203.994, 207.036, 210.078, 213.12 , 216.162, 219.204,\n",
       "        222.246, 225.288, 228.33 , 231.372, 234.414, 237.456, 240.498,\n",
       "        243.54 , 246.582, 249.624, 252.666, 255.708, 258.75 , 261.792,\n",
       "        264.834, 267.876, 270.918, 273.96 , 277.002, 280.044, 283.086,\n",
       "        286.128, 289.17 , 292.212, 295.254, 298.296, 301.338, 304.38 ,\n",
       "        307.422, 310.464, 313.506, 316.548, 319.59 , 322.632, 325.674,\n",
       "        328.716, 331.758, 334.8  ]),\n",
       " <a list of 100 Patch objects>)"
      ]
     },
     "execution_count": 35,
     "metadata": {},
     "output_type": "execute_result"
    },
    {
     "data": {
      "image/png": "[encoded data removed]",
      "text/plain": [
       "<Figure size 432x288 with 1 Axes>"
      ]
     },
     "metadata": {
      "needs_background": "light"
     },
     "output_type": "display_data"
    }
   ],
   "source": [
    "plt.hist(phi, bins=100)"
   ]
  },
  {
   "cell_type": "code",
   "execution_count": null,
   "metadata": {},
   "outputs": [],
   "source": []
  }
 ],
 "metadata": {
  "kernelspec": {
   "display_name": "Python 3",
   "language": "python",
   "name": "python3"
  },
  "language_info": {
   "codemirror_mode": {
    "name": "ipython",
    "version": 3
   },
   "file_extension": ".py",
   "mimetype": "text/x-python",
   "name": "python",
   "nbconvert_exporter": "python",
   "pygments_lexer": "ipython3",
   "version": "3.7.7"
  }
 },
 "nbformat": 4,
 "nbformat_minor": 4
}
