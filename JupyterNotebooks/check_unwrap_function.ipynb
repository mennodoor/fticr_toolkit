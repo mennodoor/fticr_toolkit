{
 "cells": [
  {
   "cell_type": "markdown",
   "metadata": {},
   "source": [
    "# FT-ICR analysis - PART 1\n",
    "\n",
    "Created on 01 March 2020 for the Pentatrap experiment\n",
    "\n",
    "@author: Menno Door<br>\n",
    "@contact: door+fticr@mpi-k.de<br>\n",
    "@license: MIT license\n",
    "\n",
    "### Refenences :\n",
    "\n",
    "used toolkit of Jonas Karthein for PI-ICR as template :) thank you!!<br>\n",
    "\n",
    "For references reguarding the theory behind ft-icr detection and analysis methods, please check the references.md file.\n",
    "\n",
    "### Introduction\n",
    "\n",
    "This part of the analysis does the conversion of the raw data to penning trap eigenfrequency data. You will be able to group, filter and average data and then fit spectra and/or evaluate pnp phase data to determine these frequencies.\n",
    "\n",
    "### Important remark:\n",
    "\n",
    "This is more a visualization thing, especially for bigger data sets i would recommend to do this using a normal python script including some multiprocessing.\n",
    "\n",
    "Please be patient with this one! Gathering information on paths in fhds structures may take a while, loading data too. So please look at the circle on the top right corner (jupyter notebook), if its filled, there is still something going on and you should just wait.\n",
    "\n",
    "### Requirements:\n",
    "\n",
    "The following code was written for Python 3.7/3.8. The required libraries are listed below with a rough description for their task in the code.\n",
    "\n",
    "    fhds (inhouse data storage, https://git.mpi-hd.mpg.de/Pentatrap/fhds)\n",
    "    h5py (data storage, easier to distribute)\n",
    "    pandas (data organisation, calculation and visualization)\n",
    "    numpy (calculation)\n",
    "    matplotlib (plotting)\n",
    "    scipy (chi square fitting)\n",
    "    jupyter (Python notebook environment)\n",
    "    ipywidgets (https://ipywidgets.readthedocs.io/en/latest/user_install.html)\n",
    "    plotly (plotting, https://github.com/plotly/plotly.py#installation)\n",
    "    qgrid (data visualization, https://github.com/quantopian/qgrid#installation)\n",
    "\n",
    "### ToDo \n",
    "\n",
    "- check for phase correlation here with single phases, short and long phases and unwrap."
   ]
  },
  {
   "cell_type": "code",
   "execution_count": null,
   "metadata": {},
   "outputs": [],
   "source": [
    "# standard libs\n",
    "from datetime import datetime, timedelta\n",
    "from pathlib import Path\n",
    "import os, json\n",
    "from pprint import pprint\n",
    "\n",
    "# math and data\n",
    "import numpy as np\n",
    "import scipy\n",
    "import pandas as pd\n",
    "import h5py\n",
    "\n",
    "# visualization\n",
    "from IPython.core.display import display, HTML\n",
    "display(HTML(\"<style>.container { width:90% !important; }</style>\"))\n",
    "#display(HTML(\"<style>div.output_scroll { height: 150em; }</style>\"))\n",
    "import ipywidgets as widgets\n",
    "from ipywidgets import interact, interact_manual\n",
    "%matplotlib inline\n",
    "import matplotlib.pyplot as plt\n",
    "import qgrid\n",
    "import plotly.graph_objs as go\n",
    "import plotly.offline as py\n",
    "import plotly.express as px\n",
    "py.init_notebook_mode()\n",
    "plt.rcParams['figure.figsize'] = (10, 4)\n",
    "\n",
    "%load_ext autoreload\n",
    "%autoreload 2\n",
    "\n",
    "# this package\n",
    "from fhds import fhds, interface\n",
    "from fticr_toolkit import *\n",
    "#from trap_control import fitaxialClass"
   ]
  },
  {
   "cell_type": "markdown",
   "metadata": {},
   "source": [
    "### Step 1: create simulated data\n",
    "\n",
    "config first"
   ]
  },
  {
   "cell_type": "code",
   "execution_count": null,
   "metadata": {},
   "outputs": [],
   "source": [
    "# frequency in Hz, phase in radian\n",
    "freq = 12315.14345\n",
    "acc_times = [0.1, 0.5, 1.1, 2.1, 5.1, 10.1, 20.1, 40.1]\n",
    "phase_offset = 4.2\n",
    "number_avg = 5\n",
    "phase_jitter = 15/180*np.pi\n",
    "acc_time_randomshift = 1.5e-6 \n",
    "ion = '187Re29+'\n",
    "mc = 1\n",
    "cycle = 1\n",
    "trap = 2\n",
    "pos = 'position_1'\n",
    "time = datetime.now()"
   ]
  },
  {
   "cell_type": "code",
   "execution_count": null,
   "metadata": {},
   "outputs": [],
   "source": [
    "pre_unwrap_phase = pd.DataFrame(columns=['mcycle', 'cycle', 'position', 'trap', 'acc_time', 'time', 'phase'])\n",
    "\n",
    "for acc in acc_times:\n",
    "    acc_shift = acc_time_randomshift*(float(np.random.rand(1))-0.5)\n",
    "    print(acc, acc_shift)\n",
    "    for i in range(number_avg):\n",
    "        N = freq*(acc+acc_shift)\n",
    "        pjitter = float(np.random.rand(1)*phase_jitter)\n",
    "        phase = ((N - int(N))*2*np.pi + pjitter + phase_offset) % (2*np.pi)\n",
    "        itime = time + timedelta(minutes=i)\n",
    "        new_row = pd.Series([mc, cycle, pos, trap, acc, itime, phase], index=pre_unwrap_phase.columns )\n",
    "        pre_unwrap_phase = pre_unwrap_phase.append(new_row, ignore_index=True)\n",
    "        \n",
    "#display(pre_unwrap_phase)"
   ]
  },
  {
   "cell_type": "code",
   "execution_count": null,
   "metadata": {
    "scrolled": false
   },
   "outputs": [],
   "source": [
    "print(\" >>> UNWRAP DATA >>> \")\n",
    "pre_unwrap_phase[\"acc_time\"] = pre_unwrap_phase[\"acc_time\"].astype(str)\n",
    "fig = px.line(pre_unwrap_phase, x=\"time\", y=\"phase\", facet_col=\"trap\", facet_row=\"position\", color=\"acc_time\", hover_data=['mcycle', 'cycle', 'position'])\n",
    "#fig.update_yaxes(matches=None)\n",
    "fig.show()\n",
    "pre_unwrap_phase[\"acc_time\"] = pre_unwrap_phase[\"acc_time\"].astype(float)"
   ]
  },
  {
   "cell_type": "markdown",
   "metadata": {},
   "source": [
    "### Step 4: N determination\n",
    "\n",
    "The unwrap data (in this case just for the nu_p phase measurement) is used to calculate the total N of osciallations during the phase accumulation time in the later measurement\n",
    "\n",
    "The method n_determination.fit_N will unwrap the phases for each acc_time, average, substract the reference phases from all the other measured phases and then determine the N by calculating Ns for a 1 Hz range around the guessed frequency and searches for the minimum. A plot of the Ns and the found minimum will be plotted to check the results.\n",
    "\n",
    "The result will be a dataFrame including N, end_phase and frequency for all main cycles, traps and positiions."
   ]
  },
  {
   "cell_type": "code",
   "execution_count": null,
   "metadata": {
    "scrolled": false
   },
   "outputs": [],
   "source": [
    "# each ion in each trap its own N determination, for every main cycle! (no grouping here, wouldn't make any sense)\n",
    "\n",
    "columns = [\"mcycle\", \"trap\", \"position\", \"N\", \"end_phase\", \"nu_p\", \"ion\", \"time\", \"max_acc_time\"]\n",
    "nu_p_N = pd.DataFrame(columns = columns)\n",
    "\n",
    "print(\" >>> mc\", mc, \"trap\", trap, \"pos\", pos, \" <<< \")\n",
    "N, end_phase, nu_p, mean_time, max_acc_time = phase_analysis.determine_N(pre_unwrap_phase, freq, resolution=None, nu_range=2, show=True)\n",
    "new_row = pd.Series([mc, trap, pos, N, end_phase, nu_p, ion, mean_time, max_acc_time], index=nu_p_N.columns )\n",
    "nu_p_N = nu_p_N.append(new_row, ignore_index=True)\n",
    "\n",
    "# show results and save to csv in results folder\n",
    "display(nu_p_N)"
   ]
  },
  {
   "cell_type": "code",
   "execution_count": null,
   "metadata": {},
   "outputs": [],
   "source": [
    "mag = 10e3\n",
    "red = 21e6\n",
    "axi = 500e3\n",
    "\n",
    "mag2 = mag - 2\n",
    "red2 = red + 2e5\n",
    "axi2 = axi\n",
    "\n",
    "print(red2/red)\n",
    "print(176/174)\n",
    "\n",
    "detune = np.arange(-10, 10, 10)\n",
    "R = []\n",
    "for det in detune:\n",
    "    cyc1 = np.sqrt((mag+det)**2 + axi**2 + red**2)\n",
    "    cyc2 = np.sqrt((mag2+det*1.1)**2 + axi2**2 + red2**2)\n",
    "    R.append(cyc1/cyc2)\n",
    "\n",
    "R = np.asarray(R)\n",
    "R -= R.min()\n",
    "plt.plot(detune, R)\n",
    "plt.show()"
   ]
  },
  {
   "cell_type": "code",
   "execution_count": null,
   "metadata": {},
   "outputs": [],
   "source": []
  }
 ],
 "metadata": {
  "celltoolbar": "Tags",
  "kernelspec": {
   "display_name": "Python 3",
   "language": "python",
   "name": "python3"
  },
  "language_info": {
   "codemirror_mode": {
    "name": "ipython",
    "version": 3
   },
   "file_extension": ".py",
   "mimetype": "text/x-python",
   "name": "python",
   "nbconvert_exporter": "python",
   "pygments_lexer": "ipython3",
   "version": "3.7.7"
  }
 },
 "nbformat": 4,
 "nbformat_minor": 4
}
