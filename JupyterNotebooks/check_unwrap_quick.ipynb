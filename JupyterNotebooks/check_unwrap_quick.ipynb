{
 "cells": [
  {
   "cell_type": "markdown",
   "metadata": {},
   "source": [
    "# FT-ICR analysis - PART 1\n",
    "\n",
    "Created on 01 March 2020 for the Pentatrap experiment\n",
    "\n",
    "@author: Menno Door<br>\n",
    "@contact: door+fticr@mpi-k.de<br>\n",
    "@license: MIT license\n",
    "\n",
    "### Refenences :\n",
    "\n",
    "used toolkit of Jonas Karthein for PI-ICR as template :) thank you!!<br>\n",
    "\n",
    "For references reguarding the theory behind ft-icr detection and analysis methods, please check the references.md file.\n",
    "\n",
    "### Introduction\n",
    "\n",
    "This part of the analysis does the conversion of the raw data to penning trap eigenfrequency data. You will be able to group, filter and average data and then fit spectra and/or evaluate pnp phase data to determine these frequencies.\n",
    "\n",
    "### Important remark:\n",
    "\n",
    "This is more a visualization thing, especially for bigger data sets i would recommend to do this using a normal python script including some multiprocessing.\n",
    "\n",
    "Please be patient with this one! Gathering information on paths in fhds structures may take a while, loading data too. So please look at the circle on the top right corner (jupyter notebook), if its filled, there is still something going on and you should just wait.\n",
    "\n",
    "### Requirements:\n",
    "\n",
    "The following code was written for Python 3.7/3.8. The required libraries are listed below with a rough description for their task in the code.\n",
    "\n",
    "    fhds (inhouse data storage, https://git.mpi-hd.mpg.de/Pentatrap/fhds)\n",
    "    h5py (data storage, easier to distribute)\n",
    "    pandas (data organisation, calculation and visualization)\n",
    "    numpy (calculation)\n",
    "    matplotlib (plotting)\n",
    "    scipy (chi square fitting)\n",
    "    jupyter (Python notebook environment)\n",
    "    ipywidgets (https://ipywidgets.readthedocs.io/en/latest/user_install.html)\n",
    "    plotly (plotting, https://github.com/plotly/plotly.py#installation)\n",
    "    qgrid (data visualization, https://github.com/quantopian/qgrid#installation)\n",
    "\n",
    "### ToDo \n",
    "\n",
    "- check for phase correlation here with single phases, short and long phases and unwrap."
   ]
  },
  {
   "cell_type": "code",
   "execution_count": null,
   "metadata": {},
   "outputs": [],
   "source": [
    "# standard libs\n",
    "from datetime import datetime\n",
    "from pathlib import Path\n",
    "import os, json\n",
    "from pprint import pprint\n",
    "\n",
    "# math and data\n",
    "import numpy as np\n",
    "import scipy\n",
    "import pandas as pd\n",
    "import h5py\n",
    "\n",
    "# visualization\n",
    "from IPython.core.display import display, HTML\n",
    "display(HTML(\"<style>.container { width:90% !important; }</style>\"))\n",
    "#display(HTML(\"<style>div.output_scroll { height: 150em; }</style>\"))\n",
    "import ipywidgets as widgets\n",
    "from ipywidgets import interact, interact_manual\n",
    "%matplotlib inline\n",
    "import matplotlib.pyplot as plt\n",
    "import qgrid\n",
    "import plotly.graph_objs as go\n",
    "import plotly.offline as py\n",
    "import plotly.express as px\n",
    "py.init_notebook_mode()\n",
    "plt.rcParams['figure.figsize'] = (10, 4)\n",
    "\n",
    "%load_ext autoreload\n",
    "%autoreload 2\n",
    "\n",
    "# this package\n",
    "from fhds import fhds, interface\n",
    "from fticr_toolkit import *\n",
    "#from trap_control import fitaxialClass"
   ]
  },
  {
   "cell_type": "markdown",
   "metadata": {},
   "source": [
    "### Step 1: Load raw data and inspect\n",
    "\n",
    "The input_data filename should be either a folder following fhds rules (append \".fhds\" to the folder name please) or a hdf5 file."
   ]
  },
  {
   "cell_type": "code",
   "execution_count": null,
   "metadata": {
    "tags": [
     "parameters"
    ]
   },
   "outputs": [],
   "source": [
    "###   P A R A M E T E R   L I S T   ( this is especially used for batch processing using the papermill package )\n",
    "measurement_folder = \"Z:\\Measurements\\\\174Yb41+_unity_feedback_3khz_2\"\n",
    "input_file = 'pnp_dip_unwrap.fhds'\n",
    "output_folder = \"./part1_data/\"\n",
    "use_settings_file = False\n",
    "settings = {\n",
    "    \"nu_unwrap\": \"nu_p\",\n",
    "    \"unwrap_range\": 2,\n",
    "    \"grouping\": [10],\n",
    "    \"reuse_averages\": True,\n",
    "    \"reuse_fitdata\": True,\n",
    "    \"fixed_phase_readout\": False\n",
    "}"
   ]
  },
  {
   "cell_type": "code",
   "execution_count": null,
   "metadata": {},
   "outputs": [],
   "source": [
    "\n",
    "data, meas_config, output_folder = data_conversion.load_data(measurement_folder=measurement_folder, \n",
    "                          input_data=input_file, \n",
    "                          output_folder=\"part1_data\",\n",
    "                          measurement_script = \"unwrap_n_measure_repeat\"\n",
    "                         )\n",
    "\n",
    "if use_settings_file:\n",
    "    settings.update( data_conversion.load_settings(measurement_folder) )\n",
    "print(\"settings\", settings)\n",
    "\n",
    "#pprint(meas_config)\n",
    "data_root = data[\"meas_data\"]"
   ]
  },
  {
   "cell_type": "code",
   "execution_count": null,
   "metadata": {},
   "outputs": [],
   "source": [
    "####\n",
    "# Chech the data structure, cycles and such\n",
    "#\n",
    "####\n",
    "\n",
    "mcycles = list(data_root.keys())\n",
    "print(\"root group names / MAIN CYCLES : \", mcycles )\n",
    "\n",
    "measurement_types = list( data_root[mcycles[0]].keys() )\n",
    "print(\"check out first group / MEASUREMENT TYPES : \", measurement_types )\n",
    "if not 'pre_unwrap' in measurement_types:\n",
    "    raise TypeError(\"There is no pre unwrap data here!\")\n",
    "\n",
    "raw_data_keys = data_conversion.get_data_paths( data_root, name_includes= (\"nu_z\", \"phase\") )"
   ]
  },
  {
   "cell_type": "markdown",
   "metadata": {},
   "source": [
    "### now unwrap data..."
   ]
  },
  {
   "cell_type": "code",
   "execution_count": null,
   "metadata": {},
   "outputs": [],
   "source": [
    "\n",
    "pre_unwrap_phase = pd.DataFrame( columns=[ \"mcycle\", \"cycle\", \"position\", \"trap\", \"acc_time\", \"time\", \"phase\" ] )\n",
    "only_attr = {\"type\": \"phase\"}\n",
    "\n",
    "for mc in data_root.keys():\n",
    "    unwrap_data = data_root[mc][\"pre_unwrap\"]\n",
    "    for subcycle, subcycle_grp in unwrap_data.items():\n",
    "        for pos, position_grp in subcycle_grp.items():\n",
    "            for trap, trap_grp in position_grp.items():\n",
    "                print(\"\\nsubcycle\", subcycle, \"pos\", pos, \"trap\", trap)#, end=\"\\r\")\n",
    "\n",
    "                for name, dset in trap_grp.items():\n",
    "                    # check if this is the correct type of data to average\n",
    "                    skip = False\n",
    "                    for attr, val in only_attr.items():\n",
    "                        if dset.attrs[attr] != val:\n",
    "                            skip = True\n",
    "                    if skip:\n",
    "                        continue\n",
    "                    \n",
    "                    # NOTE: this here is sadly very important: the dset[:] hhas to come before\n",
    "                    #       getting the attributes, due to some automated update in fhds\n",
    "                    dset_data = dset[:]\n",
    "                    dset_attrs = {}\n",
    "                    for key, val in dset.attrs.items():\n",
    "                        dset_attrs[key] = val\n",
    "                        \n",
    "                    freqs = np.linspace(dset_attrs[\"start\"], dset_attrs[\"stop\"], dset_attrs[\"binnum\"])\n",
    "\n",
    "                    nu_z = meas_config[pos][\"configuration\"][\"traps\"][int(trap[4:])][\"nu_z\"]\n",
    "                    \n",
    "                    idx = (np.abs(freqs - nu_z)).argmin()\n",
    "                    phase = dset_data[1][idx]\n",
    "                    \n",
    "                    # add they data\n",
    "                    dset = pd.Series(data=[ int(mc[5:]), int(subcycle[5:]), pos, int(trap[4:]), dset_attrs[\"acc_time\"], dset_attrs[\"time\"], phase ] , index=pre_unwrap_phase.columns)\n",
    "                    pre_unwrap_phase = pre_unwrap_phase.append(dset, ignore_index=True)\n",
    "\n",
    "                    print('.', end='')"
   ]
  },
  {
   "cell_type": "code",
   "execution_count": null,
   "metadata": {},
   "outputs": [],
   "source": [
    "pre_unwrap_phase[\"time\"] = pd.to_datetime(pre_unwrap_phase['time'], format='%Y%m%d_%H%M%S.%f')\n",
    "display(pre_unwrap_phase)\n",
    "pre_unwrap_phase.to_csv(output_folder + \"/pre_unwrap_phase.csv\", index=False)"
   ]
  },
  {
   "cell_type": "markdown",
   "metadata": {},
   "source": [
    "## Check data"
   ]
  },
  {
   "cell_type": "code",
   "execution_count": null,
   "metadata": {
    "scrolled": false
   },
   "outputs": [],
   "source": [
    "print(\" >>> UNWRAP DATA >>> \")\n",
    "pre_unwrap_phase[\"acc_time\"] = pre_unwrap_phase[\"acc_time\"].astype(str)\n",
    "fig = px.scatter(pre_unwrap_phase, x=\"time\", y=\"phase\", facet_col=\"trap\", facet_row=\"position\", color=\"acc_time\", hover_data=['mcycle', 'cycle', 'position'])\n",
    "#fig.update_yaxes(matches=None)\n",
    "fig.show()\n",
    "pre_unwrap_phase[\"acc_time\"] = pre_unwrap_phase[\"acc_time\"].astype(float)"
   ]
  },
  {
   "cell_type": "markdown",
   "metadata": {},
   "source": [
    "### Step 4: N determination\n",
    "\n",
    "The unwrap data (in this case just for the nu_p phase measurement) is used to calculate the total N of osciallations during the phase accumulation time in the later measurement\n",
    "\n",
    "The method n_determination.fit_N will unwrap the phases for each acc_time, average, substract the reference phases from all the other measured phases and then determine the N by calculating Ns for a 1 Hz range around the guessed frequency and searches for the minimum. A plot of the Ns and the found minimum will be plotted to check the results.\n",
    "\n",
    "The result will be a dataFrame including N, end_phase and frequency for all main cycles, traps and positiions."
   ]
  },
  {
   "cell_type": "code",
   "execution_count": null,
   "metadata": {
    "scrolled": false
   },
   "outputs": [],
   "source": [
    "# each ion in each trap its own N determination, for every main cycle! (no grouping here, wouldn't make any sense)\n",
    "\n",
    "columns = [\"mcycle\", \"trap\", \"position\", \"N\", \"end_phase\", \"nu_p\", \"ion\", \"time\", \"max_acc_time\"]\n",
    "nu_p_N = pd.DataFrame(columns = columns)\n",
    "\n",
    "for name, subset in pre_unwrap_phase.groupby([\"mcycle\", \"trap\", \"position\"]):\n",
    "    mc, trap, pos = name\n",
    "    \n",
    "    # NOTE: if the structure of the config changed, you have to adjust here!\n",
    "    nu_guess = meas_config[pos][\"configuration\"][\"traps\"][trap][settings[\"nu_unwrap\"]]\n",
    "    ion_str = meas_config[pos][\"configuration\"][\"traps\"][trap][\"ion\"]\n",
    "    #evolution_time = abs(meas_config[\"accumulation_time\"][0][\"time\"] - meas_config[\"accumulation_time\"][1][\"time\"])\n",
    "\n",
    "    print(\" >>> mc\", mc, \"trap\", trap, \"pos\", pos, \" <<< \")\n",
    "    N, end_phase, nu_p, mean_time, max_acc_time = phase_analysis.determine_N(subset, nu_guess, resolution=None, nu_range=settings[\"unwrap_range\"], show=True)\n",
    "    new_row = pd.Series([mc, trap, pos, N, end_phase, nu_p, ion_str, mean_time, max_acc_time], index=nu_p_N.columns )\n",
    "    nu_p_N = nu_p_N.append(new_row, ignore_index=True)\n",
    "\n",
    "# show results and save to csv in results folder\n",
    "display(nu_p_N)\n"
   ]
  },
  {
   "cell_type": "code",
   "execution_count": null,
   "metadata": {},
   "outputs": [],
   "source": []
  }
 ],
 "metadata": {
  "celltoolbar": "Tags",
  "kernelspec": {
   "display_name": "Python 3",
   "language": "python",
   "name": "python3"
  },
  "language_info": {
   "codemirror_mode": {
    "name": "ipython",
    "version": 3
   },
   "file_extension": ".py",
   "mimetype": "text/x-python",
   "name": "python",
   "nbconvert_exporter": "python",
   "pygments_lexer": "ipython3",
   "version": "3.7.7"
  }
 },
 "nbformat": 4,
 "nbformat_minor": 4
}
