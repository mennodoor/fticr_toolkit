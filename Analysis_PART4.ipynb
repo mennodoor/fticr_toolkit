{
 "cells": [
  {
   "cell_type": "markdown",
   "metadata": {},
   "source": [
    " # FT-ICR analysis - PART 4\n",
    "\n",
    "Created on 18 April 2020 for the Pentatrap experiment\n",
    " \n",
    "@author: Menno Door<br>\n",
    "@contact: door+fticr@mpi-k.de<br>\n",
    "@license: MIT license\n",
    " \n",
    "### Introduction\n",
    " \n",
    "This part allows you to evaluate notebooks with multiple settings/parameters in a batch processing kind of way.\n",
    " \n",
    "### Requirements:\n",
    " \n",
    "The following code was written in Python 3.7/3.8. The required libraries are listed below with a rough description for their task in the code.\n",
    " \n",
    "     papermill (batch processing, https://github.com/nteract/papermill)\n",
    "\n",
    "\n",
    "-----------------------------------------------------------------------------------------------------------------------\n",
    "### N O T E: I M P O R T A N T :\n",
    "\n",
    "This is not a very user friendly thing here... sorry for that, but its really not that often needed. \n",
    "Also for merging and plotting in the end, that is all very specific to the parameters looped over in the batch analysis,\n",
    "so dont expect it to work if you changed to other parameters...\n",
    "\n",
    "papermill needs the most recent version of jupyter notebook\n",
    "\n",
    "-----------------------------------------------------------------------------------------------------------------------"
   ]
  },
  {
   "cell_type": "code",
   "execution_count": 1,
   "metadata": {},
   "outputs": [],
   "source": [
    "### --------------------------------------------------------------------------------------------------------------------------------------\n",
    "### Imports\n",
    "from pathlib import Path\n",
    "from pprint import pprint\n",
    "import numpy as np\n",
    "import pandas as pd\n",
    "import papermill as pm\n",
    "import os, time\n",
    "from datetime import datetime\n",
    "import plotly.express as px\n",
    "from fticr_toolkit import *\n",
    "\n",
    "from IPython.core.display import display, HTML\n",
    "\n",
    "\n",
    "### ------------------------------------------------------------------------------------------------------------------------------------\n"
   ]
  },
  {
   "cell_type": "code",
   "execution_count": 2,
   "metadata": {},
   "outputs": [],
   "source": [
    "main_folder_path = \"G:\\\\Yb\\\\17241+42+_binding_var\\\\\"\n",
    "main_folder_path = \"G:\\\\Ca\\\\48Ca_1st_run\\\\\"\n",
    "#main_folder_path = \"G:\\\\Be\\\\\"\n",
    "main_folder_path = \"G:\\\\Yb\\\\172174_var3_opti\\\\\"\n",
    "#main_folder_path = \"G:\\\\Yb\\\\172174_var1\\\\\"\n",
    "#main_folder_path = \"F:\\\\Be_C_sys_PnAPnP\\\\\"\n",
    "main_folder_path = \"F:\\\\Ne\\\\\"\n",
    "main_folder_path = \"F:\\\\Be\\\\\"\n",
    "\n",
    "split_char = \"_\"\n",
    "number_idx = -1\n",
    "\n",
    "do_part1 = False\n",
    "do_part2 = True\n",
    "\n",
    "#skip_numbers = [10,11,12,13,14,14,15,16]\n",
    "#skip_numbers = []\n",
    "#skip_numbers = [1,2,4,7,10,11,12,14,15,16,18,19]\n",
    "min_number = 0"
   ]
  },
  {
   "cell_type": "code",
   "execution_count": 3,
   "metadata": {},
   "outputs": [],
   "source": [
    "\n",
    "### --------------------------------------------------------------------------------------------------------------------------------------\n",
    "### Example parameter cell from part 2 notebook, the tag is needed for papermill!, this is cell 3\n",
    "\n",
    "###   P A R A M E T E R   L I S T   ( this is especially used for batch processing using the papermill package but its also nice to have thesse parameters all at one place )\n",
    "measurement_folder = \"G:\\\\Yb\\\\\\172174_var1\\\\174Yb42+_172Yb42+_174Yb42+_var3_33_opti\"\n",
    "\n",
    "input_folder = \"./part1_data/\" # the measurements subfolder where the pre-analysed data (axial frequencies and nu_p phases) is\n",
    "output_folder = \"./results/\" # subfolder where the results of this analysis should go\n",
    "use_settings_file = True # uses the settings file to overwrite this stuff here:\n",
    "\n",
    "settings = {\n",
    "    #\"grouping\": [0,-1,0,-1,0,-1,0,-1,0,-1], # use -1 to not use the axial\n",
    "    #\"grouping\": [0,0,0,1,1,1,1,2,2,2], # use -1 to not use the axial\n",
    "    #\"grouping\": [0,0,0,0,0,0,0,0,0,0,0,0,0,0,0,0,0,0,0,0], # use -1 to not use the axial\n",
    "    \"grouping\": [0,0,0,0,0,0,0,0,0,0,0,0,0,0,0,0,0,0,0,0], # use -1 to not use the axial\n",
    "    \"reuse_averages\": True,\n",
    "    \"reuse_fitdata\": False,\n",
    "    \"single_axial_fits\": False,\n",
    "    #\"make_filter_settings_file\": 'filter_settings.csv',\n",
    "    \"make_filter_settings_file\": 'filter_settings_auto.csv',\n",
    "    \"fixed_phase_readout\": True,\n",
    "    \"filter_axial_by_phase\": False,\n",
    "    \"input_file\": False,\n",
    "    \"downsample\": 5,# axial resonator\n",
    "    \"fit_func\": 'pavel', # or daniel\n",
    "    \"plot\": True,\n",
    "    \"filter_settings\": None, # pandas dset with mc, trap, position, min_cycle, max_cycle; None: try to get filter settings from loaded data; False: no filter applied\n",
    "    #\"filter_settings\": pd.DataFrame(\n",
    "    #    columns=[\"mcycle\", \"trap\", \"position\", \"min_cycle\", \"max_cycle\"],\n",
    "    #    data=[[1,2,\"position_1\", 0, 26],[1,2,\"position_2\", 0, 26],[1,3,\"position_1\", 0, 26],[1,3,\"position_2\", 0, 26]]\n",
    "    #          ),\n",
    "    \"post_unwrap\": False, # if this is True, the analysis will automatically choose the post-unwrap (the pre-unwrap of the next main cycle) for nu_p frequency determination. Maybe the whole post-unwrap part is commented out in step 5, please check.\n",
    "    \"unwrap_range\": 10,\n",
    "    \"phase_error_undrift\": True, # makes everything worse supprisingly\n",
    "    \"phase_Nmatch_phases\": 50, # how many phases of the main cycle to fit and extrapolate to N determination\n",
    "    \"mean_ref_phase\": False, # BUGGED!!!! DONT USE! if True, the reference phase will be averaged and the same value substracted for all long phases (not in Ndet), otherwise every single measured reference phase is substraced from the respective long phase\n",
    "    \"phase_filter\": True, # filter measured phases by 3 sigma filter inside subcycle\n",
    "    \"single_axial\": False, # use single spec no average axial data\n",
    "    \"average\": True, # averaging subcycle data to match average_idx from part 1\n",
    "    \"nu_z_from_config\": False, # default: False, if float, the config nu_z will be taken and the float value is used as the error on the config nu_z\n",
    "    \"fill_nu_z_from_config\": False, #0.08, # default: False, if float, the config nu_z will be taken if the measured nu_z is off by hardcoded 100 Hz (which also includes no value at all) and the float value is used as the error on the config nu_z\n",
    "    \"sideband\": False, # use sideband relation to calculate nu_c\n",
    "    \"nu_m_from_unwrap\": False, # get the magnetron freq from the unwrap measurements\n",
    "    \"nu_m2_from_theory\": True, # use the magnetron freq of one position to calculate the magnetron of the other position, keeping the difference right, common offset doesn't matter\n",
    "    \"nu_z2_from_theory\": False, # use the magnetron freq of one position to calculate the magnetron of the other position, keeping the difference right, common offset doesn't matter\n",
    "    \"polydegrees\": 'auto', # number of degree of the polynom fit\n",
    "    \"polygrouping\": 0, #'auto', # group sizes for the polynom fit\n",
    "    \"poly_mode\": \"polyfit_fast\", # routine for polynom fitting\n",
    "    \"poly_criterion\": \"AICc\", # criterion for best model/poly-degree\n",
    "    \"invert\": False,\n",
    "    \"fit_settings\": {\n",
    "        \"trap2\" : {\n",
    "            \"res_span\" : 3000,\n",
    "            \"dip_span\": 80,\n",
    "        },\n",
    "        \n",
    "        \"trap3\" : {\n",
    "            \"res_span\" : 3000,\n",
    "            \"dip_span\": 80,\n",
    "        }\n",
    "    }\n",
    "    \n",
    "}"
   ]
  },
  {
   "cell_type": "markdown",
   "metadata": {},
   "source": [
    "### Main looping over parameters and executing notebooks"
   ]
  },
  {
   "cell_type": "code",
   "execution_count": 4,
   "metadata": {},
   "outputs": [
    {
     "name": "stdout",
     "output_type": "stream",
     "text": [
      "[WindowsPath('F:/Ne/12C6+_20Ne10+_12C6+_10'),\n",
      " WindowsPath('F:/Ne/12C6+_20Ne10+_12C6+_11'),\n",
      " WindowsPath('F:/Ne/12C6+_20Ne10+_12C6+_13'),\n",
      " WindowsPath('F:/Ne/12C6+_20Ne10+_12C6+_14'),\n",
      " WindowsPath('F:/Ne/12C6+_20Ne10+_12C6+_15'),\n",
      " WindowsPath('F:/Ne/12C6+_20Ne10+_12C6+_17'),\n",
      " WindowsPath('F:/Ne/12C6+_20Ne10+_12C6+_18'),\n",
      " WindowsPath('F:/Ne/12C6+_20Ne10+_12C6+_19'),\n",
      " WindowsPath('F:/Ne/12C6+_20Ne10+_12C6+_23'),\n",
      " WindowsPath('F:/Ne/12C6+_20Ne10+_12C6+_6'),\n",
      " WindowsPath('F:/Ne/12C6+_20Ne10+_12C6+_6B'),\n",
      " WindowsPath('F:/Ne/12C6+_20Ne10+_12C6+_7'),\n",
      " WindowsPath('F:/Ne/12C6+_20Ne10+_12C6+_7B'),\n",
      " WindowsPath('F:/Ne/12C6+_20Ne10+_12C6+_8')]\n"
     ]
    }
   ],
   "source": [
    "\n",
    "### --------------------------------------------------------------------------------------------------------------------------------------\n",
    "### Main folders with all the measurements\n",
    "\n",
    "masterfolder = Path(main_folder_path)\n",
    "batch_results = Path.joinpath( masterfolder, \"batch_results_\"+datetime.now().strftime(\"%Y%m%d_%H%M%S\")+\"/\" )\n",
    "#batch_results = Path.joinpath( masterfolder, \"batch_results_20210426_003859/\" )\n",
    "os.mkdir(batch_results)\n",
    "\n",
    "meas_folders = [x for x in masterfolder.iterdir() if (x.is_dir() and \n",
    "                                                      not str(x.stem).startswith(\"_\") and \n",
    "                                                      not str(x.stem).startswith(\"batch\") and\n",
    "                                                      not str(x.stem).startswith(\"crap\") and\n",
    "                                                      not str(x.stem).endswith(\"crap\")\n",
    "                                                     )]\n",
    "pprint(meas_folders)\n"
   ]
  },
  {
   "cell_type": "code",
   "execution_count": 5,
   "metadata": {},
   "outputs": [],
   "source": [
    "# check freedom before...\n",
    "\n",
    "#table = pd.DataFrame()\n",
    "#for n_min in [4,5,6,7,0]:                # calculating total time: 5\n",
    "#    paras[\"grouping_n_min\"] = n_min\n",
    "#\n",
    "#    for poly_deg in [3,4,5,6,7,8,9]:   # 5*7 = 35\n",
    "#        freedom = 2*n_min - poly_deg\n",
    "#        if freedom < 4 and n_min != 0:   # a little less... ~ 30 * (#meas = 6) = 180 * (mean(t_eval) = 90s) = ~180min = 3h\n",
    "#            continue\n",
    "#            \n",
    "#        this = pd.DataFrame(data=[[n_min, poly_deg, freedom]], columns=[\"n_min\", \"polyd\", \"f\"])\n",
    "#        table = table.append(this)\n",
    "#print(table)\n",
    "#print(len(table))"
   ]
  },
  {
   "cell_type": "code",
   "execution_count": 6,
   "metadata": {},
   "outputs": [],
   "source": [
    "paras = {\n",
    "    \"use_settings_file\": True,\n",
    "    \"settings\": settings\n",
    "}"
   ]
  },
  {
   "cell_type": "code",
   "execution_count": 7,
   "metadata": {
    "scrolled": false
   },
   "outputs": [
    {
     "name": "stdout",
     "output_type": "stream",
     "text": [
      "F:\\Ne\\12C6+_20Ne10+_12C6+_10\n",
      "running PART 2 F:\\Ne\\12C6+_20Ne10+_12C6+_10\n"
     ]
    },
    {
     "data": {
      "application/vnd.jupyter.widget-view+json": {
       "model_id": "b9f888c3bdc04ddf8880a92ea64464a6",
       "version_major": 2,
       "version_minor": 0
      },
      "text/plain": [
       "Executing:   0%|          | 0/88 [00:00<?, ?cell/s]"
      ]
     },
     "metadata": {},
     "output_type": "display_data"
    },
    {
     "name": "stdout",
     "output_type": "stream",
     "text": [
      "convert to HTML ... \n",
      "convert to HTML ... \n",
      "F:\\Ne\\12C6+_20Ne10+_12C6+_11\n",
      "running PART 2 F:\\Ne\\12C6+_20Ne10+_12C6+_11\n"
     ]
    },
    {
     "data": {
      "application/vnd.jupyter.widget-view+json": {
       "model_id": "836526bbdb8a4a39ace13232d190de60",
       "version_major": 2,
       "version_minor": 0
      },
      "text/plain": [
       "Executing:   0%|          | 0/88 [00:00<?, ?cell/s]"
      ]
     },
     "metadata": {},
     "output_type": "display_data"
    },
    {
     "name": "stdout",
     "output_type": "stream",
     "text": [
      "convert to HTML ... \n",
      "convert to HTML ... \n",
      "F:\\Ne\\12C6+_20Ne10+_12C6+_13\n",
      "running PART 2 F:\\Ne\\12C6+_20Ne10+_12C6+_13\n"
     ]
    },
    {
     "data": {
      "application/vnd.jupyter.widget-view+json": {
       "model_id": "5dc26ba65e024799ba075b12d9140265",
       "version_major": 2,
       "version_minor": 0
      },
      "text/plain": [
       "Executing:   0%|          | 0/88 [00:00<?, ?cell/s]"
      ]
     },
     "metadata": {},
     "output_type": "display_data"
    },
    {
     "name": "stdout",
     "output_type": "stream",
     "text": [
      "convert to HTML ... \n",
      "convert to HTML ... \n",
      "F:\\Ne\\12C6+_20Ne10+_12C6+_14\n",
      "running PART 2 F:\\Ne\\12C6+_20Ne10+_12C6+_14\n"
     ]
    },
    {
     "data": {
      "application/vnd.jupyter.widget-view+json": {
       "model_id": "5d46f05da124471884b4a693403b5d32",
       "version_major": 2,
       "version_minor": 0
      },
      "text/plain": [
       "Executing:   0%|          | 0/88 [00:00<?, ?cell/s]"
      ]
     },
     "metadata": {},
     "output_type": "display_data"
    },
    {
     "name": "stdout",
     "output_type": "stream",
     "text": [
      "oh man... part 2 failed! :/ \n",
      "\n",
      "---------------------------------------------------------------------------\n",
      "Exception encountered at \"In [52]\":\n",
      "---------------------------------------------------------------------------\n",
      "KeyError                                  Traceback (most recent call last)\n",
      "<ipython-input-52-754a3c036010> in <module>\n",
      "      6 unique_traps = step7_results.trap.unique()\n",
      "      7 if len(unique_traps) < 2:\n",
      "----> 8     raise KeyError('not enough trap data for cancellation, only traps: '+str(unique_traps))\n",
      "      9 \n",
      "     10 # ONLY WITH 2 TRAP DATA!!!\n",
      "\n",
      "KeyError: 'not enough trap data for cancellation, only traps: [2]'\n",
      "\n",
      "convert to HTML ... \n",
      "F:\\Ne\\12C6+_20Ne10+_12C6+_15\n",
      "running PART 2 F:\\Ne\\12C6+_20Ne10+_12C6+_15\n"
     ]
    },
    {
     "data": {
      "application/vnd.jupyter.widget-view+json": {
       "model_id": "2a01d43a05a94bf3bf497283ac5aa681",
       "version_major": 2,
       "version_minor": 0
      },
      "text/plain": [
       "Executing:   0%|          | 0/88 [00:00<?, ?cell/s]"
      ]
     },
     "metadata": {},
     "output_type": "display_data"
    },
    {
     "name": "stdout",
     "output_type": "stream",
     "text": [
      "oh man... part 2 failed! :/ \n",
      "\n",
      "---------------------------------------------------------------------------\n",
      "Exception encountered at \"In [52]\":\n",
      "---------------------------------------------------------------------------\n",
      "KeyError                                  Traceback (most recent call last)\n",
      "<ipython-input-52-754a3c036010> in <module>\n",
      "      6 unique_traps = step7_results.trap.unique()\n",
      "      7 if len(unique_traps) < 2:\n",
      "----> 8     raise KeyError('not enough trap data for cancellation, only traps: '+str(unique_traps))\n",
      "      9 \n",
      "     10 # ONLY WITH 2 TRAP DATA!!!\n",
      "\n",
      "KeyError: 'not enough trap data for cancellation, only traps: [2]'\n",
      "\n",
      "convert to HTML ... \n",
      "F:\\Ne\\12C6+_20Ne10+_12C6+_17\n",
      "running PART 2 F:\\Ne\\12C6+_20Ne10+_12C6+_17\n"
     ]
    },
    {
     "data": {
      "application/vnd.jupyter.widget-view+json": {
       "model_id": "cf49ef0e5be94ac89d6d4b3f9601c67e",
       "version_major": 2,
       "version_minor": 0
      },
      "text/plain": [
       "Executing:   0%|          | 0/88 [00:00<?, ?cell/s]"
      ]
     },
     "metadata": {},
     "output_type": "display_data"
    },
    {
     "name": "stdout",
     "output_type": "stream",
     "text": [
      "convert to HTML ... \n",
      "convert to HTML ... \n",
      "F:\\Ne\\12C6+_20Ne10+_12C6+_18\n",
      "running PART 2 F:\\Ne\\12C6+_20Ne10+_12C6+_18\n"
     ]
    },
    {
     "data": {
      "application/vnd.jupyter.widget-view+json": {
       "model_id": "bc3764e4e05d478ba9eaa61e31b99abd",
       "version_major": 2,
       "version_minor": 0
      },
      "text/plain": [
       "Executing:   0%|          | 0/88 [00:00<?, ?cell/s]"
      ]
     },
     "metadata": {},
     "output_type": "display_data"
    },
    {
     "name": "stdout",
     "output_type": "stream",
     "text": [
      "convert to HTML ... \n",
      "convert to HTML ... \n",
      "F:\\Ne\\12C6+_20Ne10+_12C6+_19\n",
      "running PART 2 F:\\Ne\\12C6+_20Ne10+_12C6+_19\n"
     ]
    },
    {
     "data": {
      "application/vnd.jupyter.widget-view+json": {
       "model_id": "ed0e03bb02a14554a16142f688f746c2",
       "version_major": 2,
       "version_minor": 0
      },
      "text/plain": [
       "Executing:   0%|          | 0/88 [00:00<?, ?cell/s]"
      ]
     },
     "metadata": {},
     "output_type": "display_data"
    },
    {
     "name": "stdout",
     "output_type": "stream",
     "text": [
      "convert to HTML ... \n",
      "convert to HTML ... \n",
      "F:\\Ne\\12C6+_20Ne10+_12C6+_23\n",
      "running PART 2 F:\\Ne\\12C6+_20Ne10+_12C6+_23\n"
     ]
    },
    {
     "data": {
      "application/vnd.jupyter.widget-view+json": {
       "model_id": "c58e22fcf38844838d42bd2df2481b67",
       "version_major": 2,
       "version_minor": 0
      },
      "text/plain": [
       "Executing:   0%|          | 0/88 [00:00<?, ?cell/s]"
      ]
     },
     "metadata": {},
     "output_type": "display_data"
    },
    {
     "name": "stdout",
     "output_type": "stream",
     "text": [
      "convert to HTML ... \n",
      "convert to HTML ... \n",
      "F:\\Ne\\12C6+_20Ne10+_12C6+_6\n",
      "running PART 2 F:\\Ne\\12C6+_20Ne10+_12C6+_6\n"
     ]
    },
    {
     "data": {
      "application/vnd.jupyter.widget-view+json": {
       "model_id": "fc9b1f9062864d38982e066ea468a91e",
       "version_major": 2,
       "version_minor": 0
      },
      "text/plain": [
       "Executing:   0%|          | 0/88 [00:00<?, ?cell/s]"
      ]
     },
     "metadata": {},
     "output_type": "display_data"
    },
    {
     "name": "stdout",
     "output_type": "stream",
     "text": [
      "convert to HTML ... \n",
      "convert to HTML ... \n",
      "F:\\Ne\\12C6+_20Ne10+_12C6+_6B\n",
      "running PART 2 F:\\Ne\\12C6+_20Ne10+_12C6+_6B\n"
     ]
    },
    {
     "data": {
      "application/vnd.jupyter.widget-view+json": {
       "model_id": "0621918a8cf14c1190b91f2d82f80dcf",
       "version_major": 2,
       "version_minor": 0
      },
      "text/plain": [
       "Executing:   0%|          | 0/88 [00:00<?, ?cell/s]"
      ]
     },
     "metadata": {},
     "output_type": "display_data"
    },
    {
     "name": "stdout",
     "output_type": "stream",
     "text": [
      "oh man... part 2 failed! :/ \n",
      "\n",
      "---------------------------------------------------------------------------\n",
      "Exception encountered at \"In [52]\":\n",
      "---------------------------------------------------------------------------\n",
      "KeyError                                  Traceback (most recent call last)\n",
      "<ipython-input-52-754a3c036010> in <module>\n",
      "      6 unique_traps = step7_results.trap.unique()\n",
      "      7 if len(unique_traps) < 2:\n",
      "----> 8     raise KeyError('not enough trap data for cancellation, only traps: '+str(unique_traps))\n",
      "      9 \n",
      "     10 # ONLY WITH 2 TRAP DATA!!!\n",
      "\n",
      "KeyError: 'not enough trap data for cancellation, only traps: [2]'\n",
      "\n",
      "convert to HTML ... \n",
      "F:\\Ne\\12C6+_20Ne10+_12C6+_7\n",
      "running PART 2 F:\\Ne\\12C6+_20Ne10+_12C6+_7\n"
     ]
    },
    {
     "data": {
      "application/vnd.jupyter.widget-view+json": {
       "model_id": "ca26babe5c6147edbddca4518fc3ff71",
       "version_major": 2,
       "version_minor": 0
      },
      "text/plain": [
       "Executing:   0%|          | 0/88 [00:00<?, ?cell/s]"
      ]
     },
     "metadata": {},
     "output_type": "display_data"
    },
    {
     "name": "stdout",
     "output_type": "stream",
     "text": [
      "convert to HTML ... \n",
      "convert to HTML ... \n",
      "F:\\Ne\\12C6+_20Ne10+_12C6+_7B\n",
      "running PART 2 F:\\Ne\\12C6+_20Ne10+_12C6+_7B\n"
     ]
    },
    {
     "data": {
      "application/vnd.jupyter.widget-view+json": {
       "model_id": "c305bc08af6544cda77d51eb1bb67c4d",
       "version_major": 2,
       "version_minor": 0
      },
      "text/plain": [
       "Executing:   0%|          | 0/88 [00:00<?, ?cell/s]"
      ]
     },
     "metadata": {},
     "output_type": "display_data"
    },
    {
     "name": "stdout",
     "output_type": "stream",
     "text": [
      "oh man... part 2 failed! :/ \n",
      "\n",
      "---------------------------------------------------------------------------\n",
      "Exception encountered at \"In [52]\":\n",
      "---------------------------------------------------------------------------\n",
      "KeyError                                  Traceback (most recent call last)\n",
      "<ipython-input-52-754a3c036010> in <module>\n",
      "      6 unique_traps = step7_results.trap.unique()\n",
      "      7 if len(unique_traps) < 2:\n",
      "----> 8     raise KeyError('not enough trap data for cancellation, only traps: '+str(unique_traps))\n",
      "      9 \n",
      "     10 # ONLY WITH 2 TRAP DATA!!!\n",
      "\n",
      "KeyError: 'not enough trap data for cancellation, only traps: [2]'\n",
      "\n",
      "convert to HTML ... \n",
      "F:\\Ne\\12C6+_20Ne10+_12C6+_8\n",
      "running PART 2 F:\\Ne\\12C6+_20Ne10+_12C6+_8\n"
     ]
    },
    {
     "data": {
      "application/vnd.jupyter.widget-view+json": {
       "model_id": "a7eb4b681d5d4f3f90f7b49ab02496d8",
       "version_major": 2,
       "version_minor": 0
      },
      "text/plain": [
       "Executing:   0%|          | 0/88 [00:00<?, ?cell/s]"
      ]
     },
     "metadata": {},
     "output_type": "display_data"
    },
    {
     "name": "stdout",
     "output_type": "stream",
     "text": [
      "convert to HTML ... \n",
      "convert to HTML ... \n"
     ]
    },
    {
     "data": {
      "text/plain": [
       "'\\n### Summary:\\nprint(\"running PART 3\")\\nparas[\"output_folder\"] = str( batch_results )\\nparas[\"input_folder\"] = str( masterfolder )\\noutput_notebook = str( batch_results )+\"/batch.ipynb\"\\npm.execute_notebook(\\n    \\'Analysis_PART3.ipynb\\',\\n    output_notebook,\\n    parameters = paras,\\n    nest_asyncio=True\\n)\\n\\nprint(\"convert to HTML ... \")\\nos.system(\"jupyter nbconvert --to HTML \"+ output_notebook)\\ntime.sleep(5)\\n#os.remove(output_notebook)\\n#print(\"delete temporaly notebook... done!\")\\n'"
      ]
     },
     "execution_count": 7,
     "metadata": {},
     "output_type": "execute_result"
    }
   ],
   "source": [
    "\n",
    "\n",
    "for meas_dir in meas_folders:\n",
    "    # the measurement folder is needed for the step results and saving the final notebook\n",
    "    paras[\"measurement_folder\"] = str(meas_dir)\n",
    "    print(meas_dir)\n",
    "\n",
    "    # only the good measurements\n",
    "    '''\n",
    "    try:\n",
    "        #if int(str(meas_dir).rsplit(\"_\")[-1]) > 22: # only specific measurements\n",
    "        if int(str(meas_dir).rsplit(split_char)[number_idx]) < min_number: # only specific measurements\n",
    "            print(\"skip...\")\n",
    "            continue\n",
    "        if int(str(meas_dir).rsplit(split_char)[number_idx]) in skip_numbers: # only specific measurements\n",
    "            print(\"skip...\")\n",
    "            continue\n",
    "    except:\n",
    "        #raise\n",
    "        continue\n",
    "    '''\n",
    "\n",
    "    ## P A R T  1\n",
    "    if do_part1:\n",
    "        \n",
    "        print(\"running PART 1\", meas_dir)\n",
    "\n",
    "        paras[\"input_file\"] = 'pnp_dip_unwrap.fhds'\n",
    "        paras[\"output_folder\"] = \"./part1_data/\"\n",
    "\n",
    "        #pprint(paras)\n",
    "\n",
    "        try:\n",
    "            os.mkdir(str(meas_dir)+\"/part1_data/\")\n",
    "        except:\n",
    "            pass\n",
    "\n",
    "        ## Execute notebook\n",
    "        output_notebook = str(meas_dir)+\"/part1_data/part1.ipynb\"\n",
    "\n",
    "        try:\n",
    "            pm.execute_notebook(\n",
    "                'Analysis_PART1.ipynb',\n",
    "                output_notebook,\n",
    "                parameters = paras,\n",
    "                nest_asyncio=True\n",
    "            )\n",
    "\n",
    "        except Exception as e:\n",
    "            print('part 1 failed, still try part 2 though...')\n",
    "            print(e)\n",
    "        finally:\n",
    "            try:\n",
    "                print(\"convert to HTML ... \")\n",
    "                os.system(\"jupyter nbconvert --to HTML \"+ output_notebook)\n",
    "                time.sleep(2)\n",
    "            except:\n",
    "                print('oh man... no HTML copy :/')            \n",
    "        #os.remove(output_notebook)\n",
    "        #print(\"delete temporaly notebook... done!\")\n",
    "\n",
    "    # P A R T  2\n",
    "    if do_part2:\n",
    "        \n",
    "        print(\"running PART 2\", meas_dir)\n",
    "        \n",
    "        paras[\"input_folder\"] = \"./part1_data/\"\n",
    "        paras[\"output_folder\"] = \"./results/\"\n",
    "        #paras['settings'][\"grouping\"] = [5] # use -1 to not use the axial\n",
    "\n",
    "        try:\n",
    "            os.mkdir(str(meas_dir)+\"/results/\")\n",
    "        except:\n",
    "            pass\n",
    "\n",
    "        try:\n",
    "            ## Execute notebook\n",
    "            output_notebook = str(meas_dir)+\"/results/part2.ipynb\"\n",
    "            #print(output_notebook)\n",
    "            pm.execute_notebook(\n",
    "                'Analysis_PART2.ipynb',\n",
    "                output_notebook,\n",
    "                parameters = paras,\n",
    "                nest_asyncio=True\n",
    "            )\n",
    "\n",
    "            print(\"convert to HTML ... \")\n",
    "            os.system(\"jupyter nbconvert --to HTML \"+ output_notebook)\n",
    "            time.sleep(2)\n",
    "        except Exception as e:\n",
    "            print('oh man... part 2 failed! :/ ')\n",
    "            print(e)\n",
    "        finally:\n",
    "            try:\n",
    "                print(\"convert to HTML ... \")\n",
    "                os.system(\"jupyter nbconvert --to HTML \"+ output_notebook)\n",
    "                time.sleep(2)\n",
    "            except:\n",
    "                print('oh man... no HTML copy :/')\n",
    "        #os.remove(output_notebook)\n",
    "        #print(\"delete temporaly notebook... done!\")\n",
    "\n",
    "\n",
    "'''\n",
    "### Summary:\n",
    "print(\"running PART 3\")\n",
    "paras[\"output_folder\"] = str( batch_results )\n",
    "paras[\"input_folder\"] = str( masterfolder )\n",
    "output_notebook = str( batch_results )+\"/batch.ipynb\"\n",
    "pm.execute_notebook(\n",
    "    'Analysis_PART3.ipynb',\n",
    "    output_notebook,\n",
    "    parameters = paras,\n",
    "    nest_asyncio=True\n",
    ")\n",
    "\n",
    "print(\"convert to HTML ... \")\n",
    "os.system(\"jupyter nbconvert --to HTML \"+ output_notebook)\n",
    "time.sleep(5)\n",
    "#os.remove(output_notebook)\n",
    "#print(\"delete temporaly notebook... done!\")\n",
    "'''"
   ]
  },
  {
   "cell_type": "code",
   "execution_count": null,
   "metadata": {},
   "outputs": [],
   "source": []
  },
  {
   "cell_type": "code",
   "execution_count": null,
   "metadata": {},
   "outputs": [],
   "source": []
  }
 ],
 "metadata": {
  "kernelspec": {
   "display_name": "Python 3",
   "language": "python",
   "name": "python3"
  },
  "language_info": {
   "codemirror_mode": {
    "name": "ipython",
    "version": 3
   },
   "file_extension": ".py",
   "mimetype": "text/x-python",
   "name": "python",
   "nbconvert_exporter": "python",
   "pygments_lexer": "ipython3",
   "version": "3.7.7"
  }
 },
 "nbformat": 4,
 "nbformat_minor": 4
}
